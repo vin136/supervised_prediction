{
 "cells": [
  {
   "cell_type": "code",
   "execution_count": 1,
   "id": "massive-knitting",
   "metadata": {},
   "outputs": [],
   "source": [
    "data_dir = '/home/vinay/Downloads/projects/data/'\n",
    "import pandas as pd\n",
    "df_wz = pd.read_csv(data_dir+'orderbook_resolution_5_2021-03-01_2021-03-24_wazirx.csv')\n",
    "df_wz['timestamp'] = pd.to_datetime(df_wz['timestamp'])"
   ]
  },
  {
   "cell_type": "code",
   "execution_count": 2,
   "id": "covered-particular",
   "metadata": {},
   "outputs": [
    {
     "data": {
      "text/html": [
       "<div>\n",
       "<style scoped>\n",
       "    .dataframe tbody tr th:only-of-type {\n",
       "        vertical-align: middle;\n",
       "    }\n",
       "\n",
       "    .dataframe tbody tr th {\n",
       "        vertical-align: top;\n",
       "    }\n",
       "\n",
       "    .dataframe thead th {\n",
       "        text-align: right;\n",
       "    }\n",
       "</style>\n",
       "<table border=\"1\" class=\"dataframe\">\n",
       "  <thead>\n",
       "    <tr style=\"text-align: right;\">\n",
       "      <th></th>\n",
       "      <th>timestamp</th>\n",
       "      <th>exchange</th>\n",
       "      <th>symbol</th>\n",
       "      <th>bid_0_price</th>\n",
       "      <th>ask_0_price</th>\n",
       "      <th>midprice</th>\n",
       "    </tr>\n",
       "  </thead>\n",
       "  <tbody>\n",
       "    <tr>\n",
       "      <th>0</th>\n",
       "      <td>2021-03-01 20:32:05</td>\n",
       "      <td>wazirx</td>\n",
       "      <td>USDTINR</td>\n",
       "      <td>76.76</td>\n",
       "      <td>76.9</td>\n",
       "      <td>76.83</td>\n",
       "    </tr>\n",
       "    <tr>\n",
       "      <th>1</th>\n",
       "      <td>2021-03-01 20:32:05</td>\n",
       "      <td>wazirx</td>\n",
       "      <td>BTCINR</td>\n",
       "      <td>3710743.00</td>\n",
       "      <td>3716553.0</td>\n",
       "      <td>3713648.00</td>\n",
       "    </tr>\n",
       "    <tr>\n",
       "      <th>2</th>\n",
       "      <td>2021-03-01 20:32:05</td>\n",
       "      <td>wazirx</td>\n",
       "      <td>ETHINR</td>\n",
       "      <td>117505.00</td>\n",
       "      <td>117700.0</td>\n",
       "      <td>117602.50</td>\n",
       "    </tr>\n",
       "    <tr>\n",
       "      <th>3</th>\n",
       "      <td>2021-03-01 20:32:10</td>\n",
       "      <td>wazirx</td>\n",
       "      <td>BTCINR</td>\n",
       "      <td>3710743.00</td>\n",
       "      <td>3716553.0</td>\n",
       "      <td>3713648.00</td>\n",
       "    </tr>\n",
       "  </tbody>\n",
       "</table>\n",
       "</div>"
      ],
      "text/plain": [
       "            timestamp exchange   symbol  bid_0_price  ask_0_price    midprice\n",
       "0 2021-03-01 20:32:05   wazirx  USDTINR        76.76         76.9       76.83\n",
       "1 2021-03-01 20:32:05   wazirx   BTCINR   3710743.00    3716553.0  3713648.00\n",
       "2 2021-03-01 20:32:05   wazirx   ETHINR    117505.00     117700.0   117602.50\n",
       "3 2021-03-01 20:32:10   wazirx   BTCINR   3710743.00    3716553.0  3713648.00"
      ]
     },
     "execution_count": 2,
     "metadata": {},
     "output_type": "execute_result"
    }
   ],
   "source": [
    "df_wz.head(4)"
   ]
  },
  {
   "cell_type": "code",
   "execution_count": 3,
   "id": "resident-superintendent",
   "metadata": {},
   "outputs": [
    {
     "data": {
      "text/html": [
       "<div>\n",
       "<style scoped>\n",
       "    .dataframe tbody tr th:only-of-type {\n",
       "        vertical-align: middle;\n",
       "    }\n",
       "\n",
       "    .dataframe tbody tr th {\n",
       "        vertical-align: top;\n",
       "    }\n",
       "\n",
       "    .dataframe thead th {\n",
       "        text-align: right;\n",
       "    }\n",
       "</style>\n",
       "<table border=\"1\" class=\"dataframe\">\n",
       "  <thead>\n",
       "    <tr style=\"text-align: right;\">\n",
       "      <th></th>\n",
       "      <th>timestamp</th>\n",
       "      <th>exchange</th>\n",
       "      <th>symbol</th>\n",
       "      <th>bid_0_price</th>\n",
       "      <th>ask_0_price</th>\n",
       "      <th>midprice</th>\n",
       "    </tr>\n",
       "  </thead>\n",
       "  <tbody>\n",
       "    <tr>\n",
       "      <th>0</th>\n",
       "      <td>2021-03-01 20:32:05</td>\n",
       "      <td>ftx</td>\n",
       "      <td>ETHUSD</td>\n",
       "      <td>1534.8000</td>\n",
       "      <td>1535.2000</td>\n",
       "      <td>1535.00000</td>\n",
       "    </tr>\n",
       "    <tr>\n",
       "      <th>1</th>\n",
       "      <td>2021-03-01 20:32:05</td>\n",
       "      <td>ftx</td>\n",
       "      <td>BTCUSD</td>\n",
       "      <td>48344.0000</td>\n",
       "      <td>48351.0000</td>\n",
       "      <td>48347.50000</td>\n",
       "    </tr>\n",
       "    <tr>\n",
       "      <th>2</th>\n",
       "      <td>2021-03-01 20:32:05</td>\n",
       "      <td>ftx</td>\n",
       "      <td>USDTUSD</td>\n",
       "      <td>1.0011</td>\n",
       "      <td>1.0012</td>\n",
       "      <td>1.00115</td>\n",
       "    </tr>\n",
       "    <tr>\n",
       "      <th>3</th>\n",
       "      <td>2021-03-01 20:32:10</td>\n",
       "      <td>ftx</td>\n",
       "      <td>ETHUSD</td>\n",
       "      <td>1534.9000</td>\n",
       "      <td>1535.0000</td>\n",
       "      <td>1534.95000</td>\n",
       "    </tr>\n",
       "  </tbody>\n",
       "</table>\n",
       "</div>"
      ],
      "text/plain": [
       "            timestamp exchange   symbol  bid_0_price  ask_0_price     midprice\n",
       "0 2021-03-01 20:32:05      ftx   ETHUSD    1534.8000    1535.2000   1535.00000\n",
       "1 2021-03-01 20:32:05      ftx   BTCUSD   48344.0000   48351.0000  48347.50000\n",
       "2 2021-03-01 20:32:05      ftx  USDTUSD       1.0011       1.0012      1.00115\n",
       "3 2021-03-01 20:32:10      ftx   ETHUSD    1534.9000    1535.0000   1534.95000"
      ]
     },
     "execution_count": 3,
     "metadata": {},
     "output_type": "execute_result"
    }
   ],
   "source": [
    "df_ftx = pd.read_csv(data_dir+'orderbook_resolution_5_2021-03-01_2021-03-24_ftx.csv')\n",
    "df_ftx['timestamp'] = pd.to_datetime(df_ftx['timestamp'])\n",
    "df_ftx.head(4)"
   ]
  },
  {
   "cell_type": "code",
   "execution_count": 4,
   "id": "lasting-championship",
   "metadata": {},
   "outputs": [
    {
     "data": {
      "text/plain": [
       "(1062827, 1151397)"
      ]
     },
     "execution_count": 4,
     "metadata": {},
     "output_type": "execute_result"
    }
   ],
   "source": [
    "len(df_wz),len(df_ftx)"
   ]
  },
  {
   "cell_type": "code",
   "execution_count": 5,
   "id": "alien-camping",
   "metadata": {},
   "outputs": [],
   "source": [
    "wzr_btc = df_wz[df_wz['symbol'] == 'BTCINR'][['timestamp','midprice']].copy().rename({'midprice':'midbtc'},axis=1).set_index('timestamp')\n",
    "wzr_eth = df_wz[df_wz['symbol'] == 'ETHINR'][['timestamp','midprice']].copy().rename({'midprice':'mideth'},axis=1).set_index('timestamp')\n",
    "usd_inr = df_wz[df_wz['symbol'] == 'USDTINR'][['timestamp','midprice']].copy().rename({'midprice':'usdinr'},axis=1).set_index('timestamp')\n",
    "ftx_btcusd = df_ftx[df_ftx['symbol'] == 'BTCUSD'][['timestamp','midprice']].copy().rename({'midprice':'ftx_midbtc_usd'},axis=1).set_index('timestamp')\n",
    "ftx_ethusd = df_ftx[df_ftx['symbol'] == 'ETHUSD'][['timestamp','midprice']].copy().rename({'midprice':'ftx_mideth_usd'},axis=1).set_index('timestamp')\n"
   ]
  },
  {
   "cell_type": "code",
   "execution_count": 6,
   "id": "experimental-microphone",
   "metadata": {},
   "outputs": [],
   "source": [
    "t = pd.concat([wzr_btc,wzr_eth,usd_inr,ftx_btcusd,ftx_ethusd],join='inner',axis=1)\n",
    "t['midbtc_ftx'] = t['ftx_midbtc_usd']*t['usdinr']\n",
    "t['mideth_ftx'] = t['ftx_mideth_usd']*t['usdinr']\n",
    "t.drop(labels=['ftx_midbtc_usd','ftx_mideth_usd'],axis=1,inplace=True)"
   ]
  },
  {
   "cell_type": "code",
   "execution_count": 60,
   "id": "extensive-reward",
   "metadata": {},
   "outputs": [],
   "source": [
    "t['time'] = pd.to_datetime(t.index)\n",
    "t.head(2)\n",
    "t.sort_index(axis=0,inplace=True)"
   ]
  },
  {
   "cell_type": "code",
   "execution_count": 61,
   "id": "female-procedure",
   "metadata": {},
   "outputs": [
    {
     "data": {
      "text/plain": [
       "timestamp\n",
       "2021-03-01 20:34:35    65.0\n",
       "2021-03-01 20:45:55    10.0\n",
       "2021-03-01 21:01:55    10.0\n",
       "2021-03-01 21:35:15    10.0\n",
       "2021-03-01 21:35:30    15.0\n",
       "                       ... \n",
       "2021-03-24 12:36:00    10.0\n",
       "2021-03-24 12:36:55    15.0\n",
       "2021-03-24 12:37:25    15.0\n",
       "2021-03-24 12:42:25    10.0\n",
       "2021-03-24 12:57:50    60.0\n",
       "Name: time, Length: 4266, dtype: float64"
      ]
     },
     "execution_count": 61,
     "metadata": {},
     "output_type": "execute_result"
    }
   ],
   "source": [
    "# Checking to see if all the data is at 5s resolution.\n",
    "time_diff = t['time'].diff(1).dt.total_seconds().dropna()\n",
    "bad_ids = (time_diff != 5.0)\n",
    "time_diff[bad_ids]"
   ]
  },
  {
   "cell_type": "code",
   "execution_count": 62,
   "id": "amazing-telling",
   "metadata": {},
   "outputs": [
    {
     "data": {
      "text/plain": [
       "count     4266.000000\n",
       "mean       109.968354\n",
       "std       1767.093090\n",
       "min         10.000000\n",
       "25%         10.000000\n",
       "50%         50.000000\n",
       "75%         65.000000\n",
       "max      78650.000000\n",
       "Name: time, dtype: float64"
      ]
     },
     "execution_count": 62,
     "metadata": {},
     "output_type": "execute_result"
    }
   ],
   "source": [
    "time_diff[bad_ids].describe()"
   ]
  },
  {
   "cell_type": "code",
   "execution_count": 63,
   "id": "competitive-university",
   "metadata": {},
   "outputs": [
    {
     "data": {
      "text/plain": [
       "(array([0, 2]),)"
      ]
     },
     "execution_count": 63,
     "metadata": {},
     "output_type": "execute_result"
    }
   ],
   "source": [
    "np.where(np.array([True,False,True]))"
   ]
  },
  {
   "cell_type": "code",
   "execution_count": 64,
   "id": "double-andrew",
   "metadata": {},
   "outputs": [],
   "source": [
    "import numpy as np\n",
    "bad_index = np.where(bad_ids.values)"
   ]
  },
  {
   "cell_type": "code",
   "execution_count": 65,
   "id": "enclosed-buyer",
   "metadata": {},
   "outputs": [
    {
     "data": {
      "text/plain": [
       "1.4105230441639858"
      ]
     },
     "execution_count": 65,
     "metadata": {},
     "output_type": "execute_result"
    }
   ],
   "source": [
    "# missing values\n",
    "bad_index[0].shape[0]*100/len(t)\n"
   ]
  },
  {
   "cell_type": "code",
   "execution_count": 68,
   "id": "enhanced-border",
   "metadata": {},
   "outputs": [
    {
     "data": {
      "text/html": [
       "<div>\n",
       "<style scoped>\n",
       "    .dataframe tbody tr th:only-of-type {\n",
       "        vertical-align: middle;\n",
       "    }\n",
       "\n",
       "    .dataframe tbody tr th {\n",
       "        vertical-align: top;\n",
       "    }\n",
       "\n",
       "    .dataframe thead th {\n",
       "        text-align: right;\n",
       "    }\n",
       "</style>\n",
       "<table border=\"1\" class=\"dataframe\">\n",
       "  <thead>\n",
       "    <tr style=\"text-align: right;\">\n",
       "      <th></th>\n",
       "      <th>midbtc</th>\n",
       "      <th>mideth</th>\n",
       "      <th>usdinr</th>\n",
       "      <th>midbtc_ftx</th>\n",
       "      <th>mideth_ftx</th>\n",
       "      <th>time</th>\n",
       "    </tr>\n",
       "    <tr>\n",
       "      <th>timestamp</th>\n",
       "      <th></th>\n",
       "      <th></th>\n",
       "      <th></th>\n",
       "      <th></th>\n",
       "      <th></th>\n",
       "      <th></th>\n",
       "    </tr>\n",
       "  </thead>\n",
       "  <tbody>\n",
       "    <tr>\n",
       "      <th>2021-03-01 20:33:20</th>\n",
       "      <td>3713833.5</td>\n",
       "      <td>117602.50</td>\n",
       "      <td>76.810</td>\n",
       "      <td>3.718833e+06</td>\n",
       "      <td>118045.44850</td>\n",
       "      <td>2021-03-01 20:33:20</td>\n",
       "    </tr>\n",
       "    <tr>\n",
       "      <th>2021-03-01 20:33:25</th>\n",
       "      <td>3714206.0</td>\n",
       "      <td>117602.50</td>\n",
       "      <td>76.815</td>\n",
       "      <td>3.718499e+06</td>\n",
       "      <td>118053.13275</td>\n",
       "      <td>2021-03-01 20:33:25</td>\n",
       "    </tr>\n",
       "    <tr>\n",
       "      <th>2021-03-01 20:33:30</th>\n",
       "      <td>3715557.0</td>\n",
       "      <td>117602.50</td>\n",
       "      <td>76.815</td>\n",
       "      <td>3.718345e+06</td>\n",
       "      <td>118053.13275</td>\n",
       "      <td>2021-03-01 20:33:30</td>\n",
       "    </tr>\n",
       "    <tr>\n",
       "      <th>2021-03-01 20:34:35</th>\n",
       "      <td>3718089.5</td>\n",
       "      <td>117338.45</td>\n",
       "      <td>76.765</td>\n",
       "      <td>3.713737e+06</td>\n",
       "      <td>118022.34925</td>\n",
       "      <td>2021-03-01 20:34:35</td>\n",
       "    </tr>\n",
       "    <tr>\n",
       "      <th>2021-03-01 20:34:40</th>\n",
       "      <td>3715742.5</td>\n",
       "      <td>117353.05</td>\n",
       "      <td>76.765</td>\n",
       "      <td>3.712355e+06</td>\n",
       "      <td>117976.29025</td>\n",
       "      <td>2021-03-01 20:34:40</td>\n",
       "    </tr>\n",
       "  </tbody>\n",
       "</table>\n",
       "</div>"
      ],
      "text/plain": [
       "                        midbtc     mideth  usdinr    midbtc_ftx    mideth_ftx  \\\n",
       "timestamp                                                                       \n",
       "2021-03-01 20:33:20  3713833.5  117602.50  76.810  3.718833e+06  118045.44850   \n",
       "2021-03-01 20:33:25  3714206.0  117602.50  76.815  3.718499e+06  118053.13275   \n",
       "2021-03-01 20:33:30  3715557.0  117602.50  76.815  3.718345e+06  118053.13275   \n",
       "2021-03-01 20:34:35  3718089.5  117338.45  76.765  3.713737e+06  118022.34925   \n",
       "2021-03-01 20:34:40  3715742.5  117353.05  76.765  3.712355e+06  117976.29025   \n",
       "\n",
       "                                   time  \n",
       "timestamp                                \n",
       "2021-03-01 20:33:20 2021-03-01 20:33:20  \n",
       "2021-03-01 20:33:25 2021-03-01 20:33:25  \n",
       "2021-03-01 20:33:30 2021-03-01 20:33:30  \n",
       "2021-03-01 20:34:35 2021-03-01 20:34:35  \n",
       "2021-03-01 20:34:40 2021-03-01 20:34:40  "
      ]
     },
     "execution_count": 68,
     "metadata": {},
     "output_type": "execute_result"
    }
   ],
   "source": [
    "t.iloc[bad_index[0][0]-2:bad_index[0][0]+3]"
   ]
  },
  {
   "cell_type": "code",
   "execution_count": 136,
   "id": "written-albert",
   "metadata": {},
   "outputs": [
    {
     "data": {
      "text/html": [
       "<div>\n",
       "<style scoped>\n",
       "    .dataframe tbody tr th:only-of-type {\n",
       "        vertical-align: middle;\n",
       "    }\n",
       "\n",
       "    .dataframe tbody tr th {\n",
       "        vertical-align: top;\n",
       "    }\n",
       "\n",
       "    .dataframe thead th {\n",
       "        text-align: right;\n",
       "    }\n",
       "</style>\n",
       "<table border=\"1\" class=\"dataframe\">\n",
       "  <thead>\n",
       "    <tr style=\"text-align: right;\">\n",
       "      <th></th>\n",
       "      <th>midbtc</th>\n",
       "      <th>mideth</th>\n",
       "      <th>usdinr</th>\n",
       "      <th>midbtc_ftx</th>\n",
       "      <th>mideth_ftx</th>\n",
       "      <th>time</th>\n",
       "    </tr>\n",
       "    <tr>\n",
       "      <th>timestamp</th>\n",
       "      <th></th>\n",
       "      <th></th>\n",
       "      <th></th>\n",
       "      <th></th>\n",
       "      <th></th>\n",
       "      <th></th>\n",
       "    </tr>\n",
       "  </thead>\n",
       "  <tbody>\n",
       "    <tr>\n",
       "      <th>2021-03-01 20:32:05</th>\n",
       "      <td>3713648.0</td>\n",
       "      <td>117602.5</td>\n",
       "      <td>76.830</td>\n",
       "      <td>3.714538e+06</td>\n",
       "      <td>117934.05000</td>\n",
       "      <td>2021-03-01 20:32:05</td>\n",
       "    </tr>\n",
       "    <tr>\n",
       "      <th>2021-03-01 20:32:10</th>\n",
       "      <td>3713648.0</td>\n",
       "      <td>117602.5</td>\n",
       "      <td>76.745</td>\n",
       "      <td>3.711772e+06</td>\n",
       "      <td>117799.73775</td>\n",
       "      <td>2021-03-01 20:32:10</td>\n",
       "    </tr>\n",
       "    <tr>\n",
       "      <th>2021-03-01 20:32:15</th>\n",
       "      <td>3713648.0</td>\n",
       "      <td>117602.5</td>\n",
       "      <td>76.745</td>\n",
       "      <td>3.711964e+06</td>\n",
       "      <td>117803.57500</td>\n",
       "      <td>2021-03-01 20:32:15</td>\n",
       "    </tr>\n",
       "    <tr>\n",
       "      <th>2021-03-01 20:32:20</th>\n",
       "      <td>3710771.0</td>\n",
       "      <td>117602.5</td>\n",
       "      <td>76.745</td>\n",
       "      <td>3.712501e+06</td>\n",
       "      <td>117826.59850</td>\n",
       "      <td>2021-03-01 20:32:20</td>\n",
       "    </tr>\n",
       "    <tr>\n",
       "      <th>2021-03-01 20:32:25</th>\n",
       "      <td>3710771.0</td>\n",
       "      <td>117602.5</td>\n",
       "      <td>76.745</td>\n",
       "      <td>3.714036e+06</td>\n",
       "      <td>117868.80825</td>\n",
       "      <td>2021-03-01 20:32:25</td>\n",
       "    </tr>\n",
       "  </tbody>\n",
       "</table>\n",
       "</div>"
      ],
      "text/plain": [
       "                        midbtc    mideth  usdinr    midbtc_ftx    mideth_ftx  \\\n",
       "timestamp                                                                      \n",
       "2021-03-01 20:32:05  3713648.0  117602.5  76.830  3.714538e+06  117934.05000   \n",
       "2021-03-01 20:32:10  3713648.0  117602.5  76.745  3.711772e+06  117799.73775   \n",
       "2021-03-01 20:32:15  3713648.0  117602.5  76.745  3.711964e+06  117803.57500   \n",
       "2021-03-01 20:32:20  3710771.0  117602.5  76.745  3.712501e+06  117826.59850   \n",
       "2021-03-01 20:32:25  3710771.0  117602.5  76.745  3.714036e+06  117868.80825   \n",
       "\n",
       "                                   time  \n",
       "timestamp                                \n",
       "2021-03-01 20:32:05 2021-03-01 20:32:05  \n",
       "2021-03-01 20:32:10 2021-03-01 20:32:10  \n",
       "2021-03-01 20:32:15 2021-03-01 20:32:15  \n",
       "2021-03-01 20:32:20 2021-03-01 20:32:20  \n",
       "2021-03-01 20:32:25 2021-03-01 20:32:25  "
      ]
     },
     "execution_count": 136,
     "metadata": {},
     "output_type": "execute_result"
    }
   ],
   "source": [
    "t.head(5)"
   ]
  },
  {
   "cell_type": "code",
   "execution_count": 92,
   "id": "pursuant-portable",
   "metadata": {},
   "outputs": [
    {
     "data": {
      "text/plain": [
       "misid    17\n",
       "Name: 0, dtype: int64"
      ]
     },
     "execution_count": 92,
     "metadata": {},
     "output_type": "execute_result"
    }
   ],
   "source": [
    "from collections import Counter\n",
    "missing_ids = pd.DataFrame({'misid':bad_index[0]})\n",
    "missing_ids.iloc[0]"
   ]
  },
  {
   "cell_type": "code",
   "execution_count": 106,
   "id": "preceding-drunk",
   "metadata": {},
   "outputs": [
    {
     "data": {
      "text/plain": [
       "65.0"
      ]
     },
     "execution_count": 106,
     "metadata": {},
     "output_type": "execute_result"
    }
   ],
   "source": [
    "import time, datetime\n",
    "from datetime import datetime, timedelta\n",
    "\n",
    "(t.iloc[18].time - t.iloc[17].time).total_seconds()"
   ]
  },
  {
   "cell_type": "code",
   "execution_count": 107,
   "id": "close-shark",
   "metadata": {},
   "outputs": [
    {
     "data": {
      "text/html": [
       "<div>\n",
       "<style scoped>\n",
       "    .dataframe tbody tr th:only-of-type {\n",
       "        vertical-align: middle;\n",
       "    }\n",
       "\n",
       "    .dataframe tbody tr th {\n",
       "        vertical-align: top;\n",
       "    }\n",
       "\n",
       "    .dataframe thead th {\n",
       "        text-align: right;\n",
       "    }\n",
       "</style>\n",
       "<table border=\"1\" class=\"dataframe\">\n",
       "  <thead>\n",
       "    <tr style=\"text-align: right;\">\n",
       "      <th></th>\n",
       "      <th>midbtc</th>\n",
       "      <th>mideth</th>\n",
       "      <th>usdinr</th>\n",
       "      <th>midbtc_ftx</th>\n",
       "      <th>mideth_ftx</th>\n",
       "      <th>time</th>\n",
       "    </tr>\n",
       "    <tr>\n",
       "      <th>timestamp</th>\n",
       "      <th></th>\n",
       "      <th></th>\n",
       "      <th></th>\n",
       "      <th></th>\n",
       "      <th></th>\n",
       "      <th></th>\n",
       "    </tr>\n",
       "  </thead>\n",
       "  <tbody>\n",
       "    <tr>\n",
       "      <th>2021-03-01 20:33:30</th>\n",
       "      <td>3715557.0</td>\n",
       "      <td>117602.50</td>\n",
       "      <td>76.815</td>\n",
       "      <td>3.718345e+06</td>\n",
       "      <td>118053.13275</td>\n",
       "      <td>2021-03-01 20:33:30</td>\n",
       "    </tr>\n",
       "    <tr>\n",
       "      <th>2021-03-01 20:34:35</th>\n",
       "      <td>3718089.5</td>\n",
       "      <td>117338.45</td>\n",
       "      <td>76.765</td>\n",
       "      <td>3.713737e+06</td>\n",
       "      <td>118022.34925</td>\n",
       "      <td>2021-03-01 20:34:35</td>\n",
       "    </tr>\n",
       "  </tbody>\n",
       "</table>\n",
       "</div>"
      ],
      "text/plain": [
       "                        midbtc     mideth  usdinr    midbtc_ftx    mideth_ftx  \\\n",
       "timestamp                                                                       \n",
       "2021-03-01 20:33:30  3715557.0  117602.50  76.815  3.718345e+06  118053.13275   \n",
       "2021-03-01 20:34:35  3718089.5  117338.45  76.765  3.713737e+06  118022.34925   \n",
       "\n",
       "                                   time  \n",
       "timestamp                                \n",
       "2021-03-01 20:33:30 2021-03-01 20:33:30  \n",
       "2021-03-01 20:34:35 2021-03-01 20:34:35  "
      ]
     },
     "execution_count": 107,
     "metadata": {},
     "output_type": "execute_result"
    }
   ],
   "source": [
    "t.iloc[17:19]"
   ]
  },
  {
   "cell_type": "code",
   "execution_count": 113,
   "id": "limited-credit",
   "metadata": {},
   "outputs": [],
   "source": [
    "missing_ids['cont_chunk_sz'] = (missing_ids-missing_ids.shift(1))\n"
   ]
  },
  {
   "cell_type": "code",
   "execution_count": 137,
   "id": "senior-statement",
   "metadata": {},
   "outputs": [
    {
     "data": {
      "text/plain": [
       "[<matplotlib.lines.Line2D at 0x7f4c11133550>]"
      ]
     },
     "execution_count": 137,
     "metadata": {},
     "output_type": "execute_result"
    },
    {
     "data": {
      "image/png": "[encoded data removed]",
      "text/plain": [
       "<Figure size 432x288 with 1 Axes>"
      ]
     },
     "metadata": {
      "needs_background": "light"
     },
     "output_type": "display_data"
    }
   ],
   "source": [
    "import matplotlib.pyplot as plt\n",
    "cumsum = missing_ids.sort_values(by='cont_chunk_sz',ascending=False)['cont_chunk_sz'].cumsum().values[:-1]\n",
    "plt.plot(cumsum)\n"
   ]
  },
  {
   "cell_type": "code",
   "execution_count": 140,
   "id": "civil-understanding",
   "metadata": {},
   "outputs": [
    {
     "data": {
      "text/plain": [
       "8914.0"
      ]
     },
     "execution_count": 140,
     "metadata": {},
     "output_type": "execute_result"
    }
   ],
   "source": [
    "cumsum[1]"
   ]
  },
  {
   "cell_type": "code",
   "execution_count": 141,
   "id": "better-annual",
   "metadata": {},
   "outputs": [
    {
     "data": {
      "text/plain": [
       "493"
      ]
     },
     "execution_count": 141,
     "metadata": {},
     "output_type": "execute_result"
    }
   ],
   "source": [
    "pct_data_covered = cumsum*100/cumsum[-1]\n",
    "np.where(pct_data_covered>70)[0][0]"
   ]
  },
  {
   "cell_type": "code",
   "execution_count": 173,
   "id": "solved-collapse",
   "metadata": {},
   "outputs": [],
   "source": [
    "# Just do forward fill and proceed\n",
    "t['date'] = t['time'].dt.date\n",
    "take_days = t.groupby('date').count()['time']>=15000\n",
    "take_days_list = take_days[take_days].index\n",
    "def good_days(ele):\n",
    "    return ele in take_days_list\n"
   ]
  },
  {
   "cell_type": "code",
   "execution_count": 174,
   "id": "serial-field",
   "metadata": {},
   "outputs": [],
   "source": [
    "new_t = t[t['date'].apply(good_days)].copy()\n"
   ]
  },
  {
   "cell_type": "code",
   "execution_count": 181,
   "id": "amino-works",
   "metadata": {},
   "outputs": [
    {
     "data": {
      "text/html": [
       "<div>\n",
       "<style scoped>\n",
       "    .dataframe tbody tr th:only-of-type {\n",
       "        vertical-align: middle;\n",
       "    }\n",
       "\n",
       "    .dataframe tbody tr th {\n",
       "        vertical-align: top;\n",
       "    }\n",
       "\n",
       "    .dataframe thead th {\n",
       "        text-align: right;\n",
       "    }\n",
       "</style>\n",
       "<table border=\"1\" class=\"dataframe\">\n",
       "  <thead>\n",
       "    <tr style=\"text-align: right;\">\n",
       "      <th></th>\n",
       "      <th>midbtc</th>\n",
       "      <th>mideth</th>\n",
       "      <th>usdinr</th>\n",
       "      <th>midbtc_ftx</th>\n",
       "      <th>mideth_ftx</th>\n",
       "      <th>time</th>\n",
       "    </tr>\n",
       "    <tr>\n",
       "      <th>date</th>\n",
       "      <th></th>\n",
       "      <th></th>\n",
       "      <th></th>\n",
       "      <th></th>\n",
       "      <th></th>\n",
       "      <th></th>\n",
       "    </tr>\n",
       "  </thead>\n",
       "  <tbody>\n",
       "    <tr>\n",
       "      <th>2021-03-02</th>\n",
       "      <td>3701550.0</td>\n",
       "      <td>116310.10</td>\n",
       "      <td>76.805</td>\n",
       "      <td>3.726771e+06</td>\n",
       "      <td>116981.69550</td>\n",
       "      <td>2021-03-02 00:00:50</td>\n",
       "    </tr>\n",
       "    <tr>\n",
       "      <th>2021-03-04</th>\n",
       "      <td>3884243.5</td>\n",
       "      <td>122613.10</td>\n",
       "      <td>75.695</td>\n",
       "      <td>3.891783e+06</td>\n",
       "      <td>122909.75625</td>\n",
       "      <td>2021-03-04 00:01:05</td>\n",
       "    </tr>\n",
       "    <tr>\n",
       "      <th>2021-03-05</th>\n",
       "      <td>3700573.5</td>\n",
       "      <td>117605.90</td>\n",
       "      <td>75.930</td>\n",
       "      <td>3.674556e+06</td>\n",
       "      <td>117467.50650</td>\n",
       "      <td>2021-03-05 00:00:00</td>\n",
       "    </tr>\n",
       "    <tr>\n",
       "      <th>2021-03-06</th>\n",
       "      <td>3710499.0</td>\n",
       "      <td>115876.35</td>\n",
       "      <td>76.005</td>\n",
       "      <td>3.690195e+06</td>\n",
       "      <td>115941.82725</td>\n",
       "      <td>2021-03-06 00:00:00</td>\n",
       "    </tr>\n",
       "    <tr>\n",
       "      <th>2021-03-07</th>\n",
       "      <td>3637927.0</td>\n",
       "      <td>121325.00</td>\n",
       "      <td>75.810</td>\n",
       "      <td>3.665110e+06</td>\n",
       "      <td>122217.09150</td>\n",
       "      <td>2021-03-07 00:00:00</td>\n",
       "    </tr>\n",
       "    <tr>\n",
       "      <th>2021-03-13</th>\n",
       "      <td>4328249.5</td>\n",
       "      <td>133529.40</td>\n",
       "      <td>75.555</td>\n",
       "      <td>4.334590e+06</td>\n",
       "      <td>134091.23625</td>\n",
       "      <td>2021-03-13 00:01:45</td>\n",
       "    </tr>\n",
       "    <tr>\n",
       "      <th>2021-03-14</th>\n",
       "      <td>4482849.0</td>\n",
       "      <td>142002.80</td>\n",
       "      <td>74.685</td>\n",
       "      <td>4.489913e+06</td>\n",
       "      <td>142364.54700</td>\n",
       "      <td>2021-03-14 00:01:40</td>\n",
       "    </tr>\n",
       "    <tr>\n",
       "      <th>2021-03-23</th>\n",
       "      <td>4304044.5</td>\n",
       "      <td>134386.10</td>\n",
       "      <td>75.645</td>\n",
       "      <td>4.310441e+06</td>\n",
       "      <td>134545.97925</td>\n",
       "      <td>2021-03-23 00:00:00</td>\n",
       "    </tr>\n",
       "  </tbody>\n",
       "</table>\n",
       "</div>"
      ],
      "text/plain": [
       "               midbtc     mideth  usdinr    midbtc_ftx    mideth_ftx  \\\n",
       "date                                                                   \n",
       "2021-03-02  3701550.0  116310.10  76.805  3.726771e+06  116981.69550   \n",
       "2021-03-04  3884243.5  122613.10  75.695  3.891783e+06  122909.75625   \n",
       "2021-03-05  3700573.5  117605.90  75.930  3.674556e+06  117467.50650   \n",
       "2021-03-06  3710499.0  115876.35  76.005  3.690195e+06  115941.82725   \n",
       "2021-03-07  3637927.0  121325.00  75.810  3.665110e+06  122217.09150   \n",
       "2021-03-13  4328249.5  133529.40  75.555  4.334590e+06  134091.23625   \n",
       "2021-03-14  4482849.0  142002.80  74.685  4.489913e+06  142364.54700   \n",
       "2021-03-23  4304044.5  134386.10  75.645  4.310441e+06  134545.97925   \n",
       "\n",
       "                          time  \n",
       "date                            \n",
       "2021-03-02 2021-03-02 00:00:50  \n",
       "2021-03-04 2021-03-04 00:01:05  \n",
       "2021-03-05 2021-03-05 00:00:00  \n",
       "2021-03-06 2021-03-06 00:00:00  \n",
       "2021-03-07 2021-03-07 00:00:00  \n",
       "2021-03-13 2021-03-13 00:01:45  \n",
       "2021-03-14 2021-03-14 00:01:40  \n",
       "2021-03-23 2021-03-23 00:00:00  "
      ]
     },
     "execution_count": 181,
     "metadata": {},
     "output_type": "execute_result"
    }
   ],
   "source": [
    "new_t.groupby('date').first()"
   ]
  },
  {
   "cell_type": "code",
   "execution_count": 182,
   "id": "swiss-walnut",
   "metadata": {},
   "outputs": [
    {
     "data": {
      "text/html": [
       "<div>\n",
       "<style scoped>\n",
       "    .dataframe tbody tr th:only-of-type {\n",
       "        vertical-align: middle;\n",
       "    }\n",
       "\n",
       "    .dataframe tbody tr th {\n",
       "        vertical-align: top;\n",
       "    }\n",
       "\n",
       "    .dataframe thead th {\n",
       "        text-align: right;\n",
       "    }\n",
       "</style>\n",
       "<table border=\"1\" class=\"dataframe\">\n",
       "  <thead>\n",
       "    <tr style=\"text-align: right;\">\n",
       "      <th></th>\n",
       "      <th>midbtc</th>\n",
       "      <th>mideth</th>\n",
       "      <th>usdinr</th>\n",
       "      <th>midbtc_ftx</th>\n",
       "      <th>mideth_ftx</th>\n",
       "      <th>time</th>\n",
       "    </tr>\n",
       "    <tr>\n",
       "      <th>date</th>\n",
       "      <th></th>\n",
       "      <th></th>\n",
       "      <th></th>\n",
       "      <th></th>\n",
       "      <th></th>\n",
       "      <th></th>\n",
       "    </tr>\n",
       "  </thead>\n",
       "  <tbody>\n",
       "    <tr>\n",
       "      <th>2021-03-02</th>\n",
       "      <td>3710609.0</td>\n",
       "      <td>117181.00</td>\n",
       "      <td>76.930</td>\n",
       "      <td>3.681024e+06</td>\n",
       "      <td>116145.06750</td>\n",
       "      <td>2021-03-02 23:59:55</td>\n",
       "    </tr>\n",
       "    <tr>\n",
       "      <th>2021-03-04</th>\n",
       "      <td>3700573.5</td>\n",
       "      <td>117605.90</td>\n",
       "      <td>75.930</td>\n",
       "      <td>3.672468e+06</td>\n",
       "      <td>117402.96600</td>\n",
       "      <td>2021-03-04 23:59:55</td>\n",
       "    </tr>\n",
       "    <tr>\n",
       "      <th>2021-03-05</th>\n",
       "      <td>3710499.0</td>\n",
       "      <td>115876.35</td>\n",
       "      <td>76.005</td>\n",
       "      <td>3.690841e+06</td>\n",
       "      <td>115964.62875</td>\n",
       "      <td>2021-03-05 23:59:55</td>\n",
       "    </tr>\n",
       "    <tr>\n",
       "      <th>2021-03-06</th>\n",
       "      <td>3636629.0</td>\n",
       "      <td>121325.00</td>\n",
       "      <td>75.810</td>\n",
       "      <td>3.663670e+06</td>\n",
       "      <td>122118.53850</td>\n",
       "      <td>2021-03-06 23:59:55</td>\n",
       "    </tr>\n",
       "    <tr>\n",
       "      <th>2021-03-07</th>\n",
       "      <td>3795499.5</td>\n",
       "      <td>124800.00</td>\n",
       "      <td>74.915</td>\n",
       "      <td>3.795156e+06</td>\n",
       "      <td>124677.28875</td>\n",
       "      <td>2021-03-07 23:59:55</td>\n",
       "    </tr>\n",
       "    <tr>\n",
       "      <th>2021-03-13</th>\n",
       "      <td>4477348.5</td>\n",
       "      <td>141675.00</td>\n",
       "      <td>74.610</td>\n",
       "      <td>4.491447e+06</td>\n",
       "      <td>142437.95100</td>\n",
       "      <td>2021-03-13 23:59:50</td>\n",
       "    </tr>\n",
       "    <tr>\n",
       "      <th>2021-03-14</th>\n",
       "      <td>4523796.0</td>\n",
       "      <td>140499.00</td>\n",
       "      <td>75.010</td>\n",
       "      <td>4.502925e+06</td>\n",
       "      <td>140272.45050</td>\n",
       "      <td>2021-03-14 23:59:55</td>\n",
       "    </tr>\n",
       "    <tr>\n",
       "      <th>2021-03-23</th>\n",
       "      <td>4210788.5</td>\n",
       "      <td>130097.15</td>\n",
       "      <td>75.820</td>\n",
       "      <td>4.232007e+06</td>\n",
       "      <td>130414.19100</td>\n",
       "      <td>2021-03-23 23:59:55</td>\n",
       "    </tr>\n",
       "  </tbody>\n",
       "</table>\n",
       "</div>"
      ],
      "text/plain": [
       "               midbtc     mideth  usdinr    midbtc_ftx    mideth_ftx  \\\n",
       "date                                                                   \n",
       "2021-03-02  3710609.0  117181.00  76.930  3.681024e+06  116145.06750   \n",
       "2021-03-04  3700573.5  117605.90  75.930  3.672468e+06  117402.96600   \n",
       "2021-03-05  3710499.0  115876.35  76.005  3.690841e+06  115964.62875   \n",
       "2021-03-06  3636629.0  121325.00  75.810  3.663670e+06  122118.53850   \n",
       "2021-03-07  3795499.5  124800.00  74.915  3.795156e+06  124677.28875   \n",
       "2021-03-13  4477348.5  141675.00  74.610  4.491447e+06  142437.95100   \n",
       "2021-03-14  4523796.0  140499.00  75.010  4.502925e+06  140272.45050   \n",
       "2021-03-23  4210788.5  130097.15  75.820  4.232007e+06  130414.19100   \n",
       "\n",
       "                          time  \n",
       "date                            \n",
       "2021-03-02 2021-03-02 23:59:55  \n",
       "2021-03-04 2021-03-04 23:59:55  \n",
       "2021-03-05 2021-03-05 23:59:55  \n",
       "2021-03-06 2021-03-06 23:59:55  \n",
       "2021-03-07 2021-03-07 23:59:55  \n",
       "2021-03-13 2021-03-13 23:59:50  \n",
       "2021-03-14 2021-03-14 23:59:55  \n",
       "2021-03-23 2021-03-23 23:59:55  "
      ]
     },
     "execution_count": 182,
     "metadata": {},
     "output_type": "execute_result"
    }
   ],
   "source": [
    "new_t.groupby('date').last()"
   ]
  },
  {
   "cell_type": "code",
   "execution_count": 212,
   "id": "italian-childhood",
   "metadata": {},
   "outputs": [],
   "source": [
    "one_day = new_t[new_t['date'] == take_days_list[0]]\n",
    "# we need 17280 rows .. let's just forward fill it with linear inc"
   ]
  },
  {
   "cell_type": "code",
   "execution_count": 214,
   "id": "latin-flooring",
   "metadata": {},
   "outputs": [],
   "source": [
    "resampled_data = one_day.resample('5s').asfreq().interpolate().drop(['time','date'],axis=1)"
   ]
  },
  {
   "cell_type": "code",
   "execution_count": 216,
   "id": "loved-surprise",
   "metadata": {},
   "outputs": [
    {
     "data": {
      "text/plain": [
       "midbtc        0\n",
       "mideth        0\n",
       "usdinr        0\n",
       "midbtc_ftx    0\n",
       "mideth_ftx    0\n",
       "dtype: int64"
      ]
     },
     "execution_count": 216,
     "metadata": {},
     "output_type": "execute_result"
    }
   ],
   "source": [
    "resampled_data.isna().sum()"
   ]
  },
  {
   "cell_type": "code",
   "execution_count": 234,
   "id": "ancient-genetics",
   "metadata": {},
   "outputs": [
    {
     "data": {
      "text/html": [
       "<div>\n",
       "<style scoped>\n",
       "    .dataframe tbody tr th:only-of-type {\n",
       "        vertical-align: middle;\n",
       "    }\n",
       "\n",
       "    .dataframe tbody tr th {\n",
       "        vertical-align: top;\n",
       "    }\n",
       "\n",
       "    .dataframe thead th {\n",
       "        text-align: right;\n",
       "    }\n",
       "</style>\n",
       "<table border=\"1\" class=\"dataframe\">\n",
       "  <thead>\n",
       "    <tr style=\"text-align: right;\">\n",
       "      <th></th>\n",
       "      <th>midbtc</th>\n",
       "      <th>mideth</th>\n",
       "      <th>usdinr</th>\n",
       "      <th>midbtc_ftx</th>\n",
       "      <th>mideth_ftx</th>\n",
       "    </tr>\n",
       "    <tr>\n",
       "      <th>timestamp</th>\n",
       "      <th></th>\n",
       "      <th></th>\n",
       "      <th></th>\n",
       "      <th></th>\n",
       "      <th></th>\n",
       "    </tr>\n",
       "  </thead>\n",
       "  <tbody>\n",
       "    <tr>\n",
       "      <th>2021-03-02 00:00:50</th>\n",
       "      <td>3701550.0</td>\n",
       "      <td>116310.1</td>\n",
       "      <td>76.805</td>\n",
       "      <td>3.726771e+06</td>\n",
       "      <td>116981.69550</td>\n",
       "    </tr>\n",
       "    <tr>\n",
       "      <th>2021-03-02 00:00:55</th>\n",
       "      <td>3700439.5</td>\n",
       "      <td>116310.1</td>\n",
       "      <td>76.805</td>\n",
       "      <td>3.729574e+06</td>\n",
       "      <td>117020.09800</td>\n",
       "    </tr>\n",
       "    <tr>\n",
       "      <th>2021-03-02 00:01:00</th>\n",
       "      <td>3700439.5</td>\n",
       "      <td>116399.5</td>\n",
       "      <td>76.745</td>\n",
       "      <td>3.724934e+06</td>\n",
       "      <td>116798.21550</td>\n",
       "    </tr>\n",
       "    <tr>\n",
       "      <th>2021-03-02 00:01:05</th>\n",
       "      <td>3700439.5</td>\n",
       "      <td>115871.3</td>\n",
       "      <td>76.745</td>\n",
       "      <td>3.724512e+06</td>\n",
       "      <td>116825.07625</td>\n",
       "    </tr>\n",
       "    <tr>\n",
       "      <th>2021-03-02 00:01:10</th>\n",
       "      <td>3700737.0</td>\n",
       "      <td>115871.3</td>\n",
       "      <td>76.805</td>\n",
       "      <td>3.727001e+06</td>\n",
       "      <td>116820.40500</td>\n",
       "    </tr>\n",
       "    <tr>\n",
       "      <th>...</th>\n",
       "      <td>...</td>\n",
       "      <td>...</td>\n",
       "      <td>...</td>\n",
       "      <td>...</td>\n",
       "      <td>...</td>\n",
       "    </tr>\n",
       "    <tr>\n",
       "      <th>2021-03-02 23:59:35</th>\n",
       "      <td>3710609.5</td>\n",
       "      <td>117249.2</td>\n",
       "      <td>76.945</td>\n",
       "      <td>3.681895e+06</td>\n",
       "      <td>116183.10275</td>\n",
       "    </tr>\n",
       "    <tr>\n",
       "      <th>2021-03-02 23:59:40</th>\n",
       "      <td>3710609.0</td>\n",
       "      <td>117249.2</td>\n",
       "      <td>76.935</td>\n",
       "      <td>3.680686e+06</td>\n",
       "      <td>116137.22925</td>\n",
       "    </tr>\n",
       "    <tr>\n",
       "      <th>2021-03-02 23:59:45</th>\n",
       "      <td>3710609.0</td>\n",
       "      <td>117249.2</td>\n",
       "      <td>76.935</td>\n",
       "      <td>3.680955e+06</td>\n",
       "      <td>116144.92275</td>\n",
       "    </tr>\n",
       "    <tr>\n",
       "      <th>2021-03-02 23:59:50</th>\n",
       "      <td>3710609.0</td>\n",
       "      <td>117181.0</td>\n",
       "      <td>76.930</td>\n",
       "      <td>3.680677e+06</td>\n",
       "      <td>116137.37450</td>\n",
       "    </tr>\n",
       "    <tr>\n",
       "      <th>2021-03-02 23:59:55</th>\n",
       "      <td>3710609.0</td>\n",
       "      <td>117181.0</td>\n",
       "      <td>76.930</td>\n",
       "      <td>3.681024e+06</td>\n",
       "      <td>116145.06750</td>\n",
       "    </tr>\n",
       "  </tbody>\n",
       "</table>\n",
       "<p>17270 rows × 5 columns</p>\n",
       "</div>"
      ],
      "text/plain": [
       "                        midbtc    mideth  usdinr    midbtc_ftx    mideth_ftx\n",
       "timestamp                                                                   \n",
       "2021-03-02 00:00:50  3701550.0  116310.1  76.805  3.726771e+06  116981.69550\n",
       "2021-03-02 00:00:55  3700439.5  116310.1  76.805  3.729574e+06  117020.09800\n",
       "2021-03-02 00:01:00  3700439.5  116399.5  76.745  3.724934e+06  116798.21550\n",
       "2021-03-02 00:01:05  3700439.5  115871.3  76.745  3.724512e+06  116825.07625\n",
       "2021-03-02 00:01:10  3700737.0  115871.3  76.805  3.727001e+06  116820.40500\n",
       "...                        ...       ...     ...           ...           ...\n",
       "2021-03-02 23:59:35  3710609.5  117249.2  76.945  3.681895e+06  116183.10275\n",
       "2021-03-02 23:59:40  3710609.0  117249.2  76.935  3.680686e+06  116137.22925\n",
       "2021-03-02 23:59:45  3710609.0  117249.2  76.935  3.680955e+06  116144.92275\n",
       "2021-03-02 23:59:50  3710609.0  117181.0  76.930  3.680677e+06  116137.37450\n",
       "2021-03-02 23:59:55  3710609.0  117181.0  76.930  3.681024e+06  116145.06750\n",
       "\n",
       "[17270 rows x 5 columns]"
      ]
     },
     "execution_count": 234,
     "metadata": {},
     "output_type": "execute_result"
    }
   ],
   "source": [
    "resampled_data"
   ]
  },
  {
   "cell_type": "markdown",
   "id": "liberal-count",
   "metadata": {},
   "source": [
    "## Checking Indicators"
   ]
  },
  {
   "cell_type": "code",
   "execution_count": 271,
   "id": "wrapped-batch",
   "metadata": {},
   "outputs": [],
   "source": [
    "from custom_finta import TA"
   ]
  },
  {
   "cell_type": "code",
   "execution_count": 301,
   "id": "activated-dining",
   "metadata": {},
   "outputs": [
    {
     "data": {
      "text/plain": [
       "timestamp\n",
       "2021-03-02 00:00:50           NaN\n",
       "2021-03-02 00:00:55           NaN\n",
       "2021-03-02 00:01:00           NaN\n",
       "2021-03-02 00:01:05           NaN\n",
       "2021-03-02 00:01:10           NaN\n",
       "                          ...    \n",
       "2021-03-02 23:59:35    100.000000\n",
       "2021-03-02 23:59:40     99.996787\n",
       "2021-03-02 23:59:45     99.996748\n",
       "2021-03-02 23:59:50     99.996496\n",
       "2021-03-02 23:59:55     99.996496\n",
       "Freq: 5S, Name: 70 period STOCH %K, Length: 17270, dtype: float64"
      ]
     },
     "execution_count": 301,
     "metadata": {},
     "output_type": "execute_result"
    }
   ],
   "source": [
    "(TA.STOCHCLOSE({'close':resampled_data['midbtc'],'low':resampled_data['midbtc'],'high':resampled_data['midbtc']},70))"
   ]
  },
  {
   "cell_type": "code",
   "execution_count": 304,
   "id": "ready-agriculture",
   "metadata": {},
   "outputs": [
    {
     "data": {
      "text/plain": [
       "timestamp\n",
       "2021-03-02 00:00:50           NaN\n",
       "2021-03-02 00:00:55           NaN\n",
       "2021-03-02 00:01:00           NaN\n",
       "2021-03-02 00:01:05           NaN\n",
       "2021-03-02 00:01:10           NaN\n",
       "                          ...    \n",
       "2021-03-02 23:59:35    100.000000\n",
       "2021-03-02 23:59:40     99.996787\n",
       "2021-03-02 23:59:45     99.996748\n",
       "2021-03-02 23:59:50     99.996496\n",
       "2021-03-02 23:59:55     99.996496\n",
       "Freq: 5S, Name: 70 period STOCH %K, Length: 17270, dtype: float64"
      ]
     },
     "execution_count": 304,
     "metadata": {},
     "output_type": "execute_result"
    }
   ],
   "source": [
    "getattr(TA,'STOCHCLOSE')({'close':resampled_data['midbtc'],'low':resampled_data['midbtc'],'high':resampled_data['midbtc']},70)"
   ]
  },
  {
   "cell_type": "code",
   "execution_count": null,
   "id": "frank-mother",
   "metadata": {},
   "outputs": [],
   "source": [
    "config = \n",
    "{\n",
    "    \"ti\":{\n",
    "        \"MACD\":[(5,10,10),(10,20,10)],\n",
    "        \"STOCH\":[(10),(20)],\n",
    "        \"BBANDSTDDIST\":[(10),(20)],\n",
    "        \"PEAKMINUSTROUGH\":[(10),(20)],\n",
    "        \"RSI\":[(10),(20)]\n",
    "    }\n",
    "    \n",
    "}"
   ]
  },
  {
   "cell_type": "code",
   "execution_count": 269,
   "id": "beneficial-calculation",
   "metadata": {},
   "outputs": [
    {
     "data": {
      "text/plain": [
       "9"
      ]
     },
     "execution_count": 269,
     "metadata": {},
     "output_type": "execute_result"
    }
   ],
   "source": [
    "from ta import RSIIndicator,MACD,StochasticOscillator\n",
    "Rsi = RSIIndicator(close=resampled_data['midbtc'],window=10)\n",
    "Rsi.rsi().isna().sum()"
   ]
  },
  {
   "cell_type": "code",
   "execution_count": 261,
   "id": "limited-lancaster",
   "metadata": {},
   "outputs": [
    {
     "data": {
      "text/plain": [
       "count    17252.000000\n",
       "mean        -0.039130\n",
       "std        469.028773\n",
       "min      -3757.912522\n",
       "25%       -188.621520\n",
       "50%         -3.035751\n",
       "75%        196.783933\n",
       "max       2805.310646\n",
       "Name: MACD_diff_10_5, dtype: float64"
      ]
     },
     "execution_count": 261,
     "metadata": {},
     "output_type": "execute_result"
    }
   ],
   "source": [
    "Macd = MACD(resampled_data['midbtc'],5,10,10)\n",
    "Macd.macd_diff().describe()"
   ]
  },
  {
   "cell_type": "code",
   "execution_count": 270,
   "id": "systematic-printer",
   "metadata": {},
   "outputs": [
    {
     "data": {
      "text/plain": [
       "191"
      ]
     },
     "execution_count": 270,
     "metadata": {},
     "output_type": "execute_result"
    }
   ],
   "source": [
    "Stoch = StochasticOscillator(resampled_data['midbtc'].copy(),resampled_data['midbtc'].copy(),resampled_data['midbtc'].copy(),10)\n",
    "Stoch.stoch().isna().sum()"
   ]
  },
  {
   "cell_type": "code",
   "execution_count": 232,
   "id": "sticky-alabama",
   "metadata": {},
   "outputs": [
    {
     "data": {
      "text/plain": [
       "<AxesSubplot:xlabel='timestamp'>"
      ]
     },
     "execution_count": 232,
     "metadata": {},
     "output_type": "execute_result"
    },
    {
     "data": {
      "image/png": "[encoded data removed]",
      "text/plain": [
       "<Figure size 432x288 with 1 Axes>"
      ]
     },
     "metadata": {
      "needs_background": "light"
     },
     "output_type": "display_data"
    }
   ],
   "source": [
    "resampled_data['midbtc'].plot()"
   ]
  },
  {
   "cell_type": "code",
   "execution_count": 233,
   "id": "coastal-miracle",
   "metadata": {},
   "outputs": [
    {
     "data": {
      "text/plain": [
       "<AxesSubplot:xlabel='timestamp'>"
      ]
     },
     "execution_count": 233,
     "metadata": {},
     "output_type": "execute_result"
    },
    {
     "data": {
      "image/png": "[encoded data removed]",
      "text/plain": [
       "<Figure size 432x288 with 1 Axes>"
      ]
     },
     "metadata": {
      "needs_background": "light"
     },
     "output_type": "display_data"
    }
   ],
   "source": [
    "resampled_data['mideth'].plot()"
   ]
  },
  {
   "cell_type": "code",
   "execution_count": 13,
   "id": "foster-communications",
   "metadata": {},
   "outputs": [],
   "source": [
    "inds = []\n",
    "for ind,ele in enumerate(time_diff==50.0):\n",
    "    if ele == True:\n",
    "        inds.append(ind)\n",
    "        "
   ]
  },
  {
   "cell_type": "code",
   "execution_count": 15,
   "id": "upset-portuguese",
   "metadata": {},
   "outputs": [
    {
     "data": {
      "text/html": [
       "<div>\n",
       "<style scoped>\n",
       "    .dataframe tbody tr th:only-of-type {\n",
       "        vertical-align: middle;\n",
       "    }\n",
       "\n",
       "    .dataframe tbody tr th {\n",
       "        vertical-align: top;\n",
       "    }\n",
       "\n",
       "    .dataframe thead th {\n",
       "        text-align: right;\n",
       "    }\n",
       "</style>\n",
       "<table border=\"1\" class=\"dataframe\">\n",
       "  <thead>\n",
       "    <tr style=\"text-align: right;\">\n",
       "      <th></th>\n",
       "      <th>midbtc</th>\n",
       "      <th>mideth</th>\n",
       "      <th>usdinr</th>\n",
       "      <th>midbtc_ftx</th>\n",
       "      <th>mideth_ftx</th>\n",
       "      <th>time</th>\n",
       "    </tr>\n",
       "    <tr>\n",
       "      <th>timestamp</th>\n",
       "      <th></th>\n",
       "      <th></th>\n",
       "      <th></th>\n",
       "      <th></th>\n",
       "      <th></th>\n",
       "      <th></th>\n",
       "    </tr>\n",
       "  </thead>\n",
       "  <tbody>\n",
       "    <tr>\n",
       "      <th>2021-03-06 15:45:55</th>\n",
       "      <td>3659010.0</td>\n",
       "      <td>118468.6</td>\n",
       "      <td>75.625</td>\n",
       "      <td>3.649700e+06</td>\n",
       "      <td>118924.09375</td>\n",
       "      <td>2021-03-06 15:45:55</td>\n",
       "    </tr>\n",
       "    <tr>\n",
       "      <th>2021-03-06 15:46:00</th>\n",
       "      <td>3659010.0</td>\n",
       "      <td>118468.6</td>\n",
       "      <td>75.625</td>\n",
       "      <td>3.649814e+06</td>\n",
       "      <td>118924.09375</td>\n",
       "      <td>2021-03-06 15:46:00</td>\n",
       "    </tr>\n",
       "    <tr>\n",
       "      <th>2021-03-06 15:46:05</th>\n",
       "      <td>3659010.0</td>\n",
       "      <td>118468.6</td>\n",
       "      <td>75.625</td>\n",
       "      <td>3.649889e+06</td>\n",
       "      <td>118931.65625</td>\n",
       "      <td>2021-03-06 15:46:05</td>\n",
       "    </tr>\n",
       "    <tr>\n",
       "      <th>2021-03-06 15:46:55</th>\n",
       "      <td>3656572.0</td>\n",
       "      <td>118468.6</td>\n",
       "      <td>75.605</td>\n",
       "      <td>3.648357e+06</td>\n",
       "      <td>118858.62050</td>\n",
       "      <td>2021-03-06 15:46:55</td>\n",
       "    </tr>\n",
       "    <tr>\n",
       "      <th>2021-03-06 15:47:00</th>\n",
       "      <td>3656572.0</td>\n",
       "      <td>118468.6</td>\n",
       "      <td>75.605</td>\n",
       "      <td>3.646543e+06</td>\n",
       "      <td>118858.62050</td>\n",
       "      <td>2021-03-06 15:47:00</td>\n",
       "    </tr>\n",
       "  </tbody>\n",
       "</table>\n",
       "</div>"
      ],
      "text/plain": [
       "                        midbtc    mideth  usdinr    midbtc_ftx    mideth_ftx  \\\n",
       "timestamp                                                                      \n",
       "2021-03-06 15:45:55  3659010.0  118468.6  75.625  3.649700e+06  118924.09375   \n",
       "2021-03-06 15:46:00  3659010.0  118468.6  75.625  3.649814e+06  118924.09375   \n",
       "2021-03-06 15:46:05  3659010.0  118468.6  75.625  3.649889e+06  118931.65625   \n",
       "2021-03-06 15:46:55  3656572.0  118468.6  75.605  3.648357e+06  118858.62050   \n",
       "2021-03-06 15:47:00  3656572.0  118468.6  75.605  3.646543e+06  118858.62050   \n",
       "\n",
       "                                   time  \n",
       "timestamp                                \n",
       "2021-03-06 15:45:55 2021-03-06 15:45:55  \n",
       "2021-03-06 15:46:00 2021-03-06 15:46:00  \n",
       "2021-03-06 15:46:05 2021-03-06 15:46:05  \n",
       "2021-03-06 15:46:55 2021-03-06 15:46:55  \n",
       "2021-03-06 15:47:00 2021-03-06 15:47:00  "
      ]
     },
     "execution_count": 15,
     "metadata": {},
     "output_type": "execute_result"
    }
   ],
   "source": [
    "t.iloc[inds[0]-2:inds[0]+3]"
   ]
  },
  {
   "cell_type": "code",
   "execution_count": 21,
   "id": "environmental-breakdown",
   "metadata": {},
   "outputs": [
    {
     "data": {
      "text/plain": [
       "Timestamp('2021-03-06 15:46:10')"
      ]
     },
     "execution_count": 21,
     "metadata": {},
     "output_type": "execute_result"
    }
   ],
   "source": [
    "import time, datetime\n",
    "from datetime import datetime, timedelta\n",
    "t.iloc[inds[0]].time + timedelta(seconds=5)"
   ]
  },
  {
   "cell_type": "code",
   "execution_count": 141,
   "id": "identical-angel",
   "metadata": {},
   "outputs": [
    {
     "data": {
      "text/plain": [
       "array([1.0000e+01, 1.5000e+01, 2.0000e+01, 2.5000e+01, 3.0000e+01,\n",
       "       3.5000e+01, 4.0000e+01, 4.5000e+01, 5.0000e+01, 5.5000e+01,\n",
       "       6.0000e+01, 6.5000e+01, 7.0000e+01, 7.5000e+01, 8.0000e+01,\n",
       "       8.5000e+01, 9.0000e+01, 9.5000e+01, 1.0000e+02, 1.0500e+02,\n",
       "       1.1000e+02, 1.1500e+02, 1.2000e+02, 1.2500e+02, 1.3000e+02,\n",
       "       1.3500e+02, 1.4000e+02, 1.4500e+02, 1.5000e+02, 1.5500e+02,\n",
       "       1.6000e+02, 1.6500e+02, 1.7000e+02, 1.7500e+02, 1.8000e+02,\n",
       "       1.8500e+02, 1.9000e+02, 1.9500e+02, 2.0000e+02, 2.0500e+02,\n",
       "       2.1000e+02, 2.1500e+02, 2.2000e+02, 2.2500e+02, 2.3500e+02,\n",
       "       2.4000e+02, 2.5000e+02, 2.6000e+02, 2.7500e+02, 2.8000e+02,\n",
       "       2.8500e+02, 2.9000e+02, 3.0000e+02, 3.1000e+02, 3.1500e+02,\n",
       "       3.3500e+02, 3.4000e+02, 3.5000e+02, 3.6500e+02, 5.7500e+02,\n",
       "       7.3000e+02, 1.6200e+03, 3.4750e+03, 3.6050e+03, 5.2650e+03,\n",
       "       9.3300e+03, 1.2320e+04, 1.2780e+04, 1.5225e+04, 2.4795e+04,\n",
       "       3.2955e+04, 6.9110e+04, 7.8650e+04])"
      ]
     },
     "execution_count": 141,
     "metadata": {},
     "output_type": "execute_result"
    }
   ],
   "source": [
    "np.unique(time_diff[bad_ids])"
   ]
  },
  {
   "cell_type": "code",
   "execution_count": 148,
   "id": "operating-application",
   "metadata": {},
   "outputs": [
    {
     "data": {
      "text/plain": [
       "date\n",
       "2021-03-01     2195\n",
       "2021-03-02    15314\n",
       "2021-03-03    12718\n",
       "2021-03-04    16045\n",
       "2021-03-05    15843\n",
       "2021-03-06    15999\n",
       "2021-03-07    15917\n",
       "2021-03-08    13708\n",
       "2021-03-09    12101\n",
       "2021-03-10     4457\n",
       "2021-03-11     9127\n",
       "2021-03-12     5115\n",
       "2021-03-13    15690\n",
       "2021-03-14    15112\n",
       "2021-03-15    14570\n",
       "2021-03-16    10949\n",
       "2021-03-17    14559\n",
       "2021-03-18    10845\n",
       "2021-03-19    13681\n",
       "2021-03-20    14775\n",
       "2021-03-21    14418\n",
       "2021-03-22    14902\n",
       "2021-03-23    15382\n",
       "2021-03-24     9019\n",
       "Name: time, dtype: int64"
      ]
     },
     "execution_count": 148,
     "metadata": {},
     "output_type": "execute_result"
    }
   ],
   "source": [
    "t['date'] = t['time'].dt.date\n",
    "t.groupby('date').count()['time']\n"
   ]
  },
  {
   "cell_type": "markdown",
   "id": "absolute-maximum",
   "metadata": {},
   "source": [
    "## This data is fucked up so badly..welcome to real world."
   ]
  },
  {
   "cell_type": "markdown",
   "id": "outstanding-multiple",
   "metadata": {},
   "source": [
    "### let's just see the plane wazirx data\n"
   ]
  },
  {
   "cell_type": "code",
   "execution_count": 157,
   "id": "particular-coordinate",
   "metadata": {},
   "outputs": [
    {
     "data": {
      "text/plain": [
       "date\n",
       "2021-03-01     2350\n",
       "2021-03-02    16292\n",
       "2021-03-03    13300\n",
       "2021-03-04    16746\n",
       "2021-03-05    16686\n",
       "2021-03-06    16607\n",
       "2021-03-07    16643\n",
       "2021-03-08    16324\n",
       "2021-03-09    13048\n",
       "2021-03-10     4531\n",
       "2021-03-11    16586\n",
       "2021-03-12    14850\n",
       "2021-03-13    16545\n",
       "2021-03-14    16404\n",
       "2021-03-15    16108\n",
       "2021-03-16    11842\n",
       "2021-03-17    16524\n",
       "2021-03-18    16832\n",
       "2021-03-19    15032\n",
       "2021-03-20    16218\n",
       "2021-03-21    15992\n",
       "2021-03-22    16359\n",
       "2021-03-23    16493\n",
       "2021-03-24     9231\n",
       "Name: timestamp, dtype: int64"
      ]
     },
     "execution_count": 157,
     "metadata": {},
     "output_type": "execute_result"
    }
   ],
   "source": [
    "df_wz['date'] = df_wz['timestamp'].dt.date\n",
    "df_wz[df_wz['symbol'] == 'BTCINR'].groupby('date').count()['timestamp']"
   ]
  },
  {
   "cell_type": "markdown",
   "id": "three-israel",
   "metadata": {},
   "source": [
    "### Even orginal data is reasonably fucked."
   ]
  },
  {
   "cell_type": "code",
   "execution_count": null,
   "id": "pregnant-saudi",
   "metadata": {},
   "outputs": [],
   "source": []
  },
  {
   "cell_type": "code",
   "execution_count": null,
   "id": "inside-roots",
   "metadata": {},
   "outputs": [],
   "source": []
  },
  {
   "cell_type": "code",
   "execution_count": null,
   "id": "alternative-shell",
   "metadata": {},
   "outputs": [],
   "source": []
  },
  {
   "cell_type": "code",
   "execution_count": null,
   "id": "coastal-fifty",
   "metadata": {},
   "outputs": [],
   "source": []
  }
 ],
 "metadata": {
  "kernelspec": {
   "display_name": "Python 3",
   "language": "python",
   "name": "python3"
  },
  "language_info": {
   "codemirror_mode": {
    "name": "ipython",
    "version": 3
   },
   "file_extension": ".py",
   "mimetype": "text/x-python",
   "name": "python",
   "nbconvert_exporter": "python",
   "pygments_lexer": "ipython3",
   "version": "3.8.3"
  }
 },
 "nbformat": 4,
 "nbformat_minor": 5
}
