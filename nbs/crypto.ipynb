{
 "cells": [
  {
   "cell_type": "code",
   "execution_count": 9,
   "id": "organized-palmer",
   "metadata": {},
   "outputs": [],
   "source": [
    "data_dir = '/home/vinay/Downloads/projects/data/'\n",
    "import pandas as pd\n",
    "df_wz = pd.read_csv(data_dir+'orderbook_resolution_5_2021-03-01_2021-03-24_wazirx.csv')\n",
    "df_wz['timestamp'] = pd.to_datetime(df_wz['timestamp'])"
   ]
  },
  {
   "cell_type": "code",
   "execution_count": 10,
   "id": "equipped-steel",
   "metadata": {},
   "outputs": [
    {
     "data": {
      "text/html": [
       "<div>\n",
       "<style scoped>\n",
       "    .dataframe tbody tr th:only-of-type {\n",
       "        vertical-align: middle;\n",
       "    }\n",
       "\n",
       "    .dataframe tbody tr th {\n",
       "        vertical-align: top;\n",
       "    }\n",
       "\n",
       "    .dataframe thead th {\n",
       "        text-align: right;\n",
       "    }\n",
       "</style>\n",
       "<table border=\"1\" class=\"dataframe\">\n",
       "  <thead>\n",
       "    <tr style=\"text-align: right;\">\n",
       "      <th></th>\n",
       "      <th>timestamp</th>\n",
       "      <th>exchange</th>\n",
       "      <th>symbol</th>\n",
       "      <th>bid_0_price</th>\n",
       "      <th>ask_0_price</th>\n",
       "      <th>midprice</th>\n",
       "    </tr>\n",
       "  </thead>\n",
       "  <tbody>\n",
       "    <tr>\n",
       "      <th>0</th>\n",
       "      <td>2021-03-01 20:32:05</td>\n",
       "      <td>wazirx</td>\n",
       "      <td>USDTINR</td>\n",
       "      <td>76.76</td>\n",
       "      <td>76.9</td>\n",
       "      <td>76.83</td>\n",
       "    </tr>\n",
       "    <tr>\n",
       "      <th>1</th>\n",
       "      <td>2021-03-01 20:32:05</td>\n",
       "      <td>wazirx</td>\n",
       "      <td>BTCINR</td>\n",
       "      <td>3710743.00</td>\n",
       "      <td>3716553.0</td>\n",
       "      <td>3713648.00</td>\n",
       "    </tr>\n",
       "    <tr>\n",
       "      <th>2</th>\n",
       "      <td>2021-03-01 20:32:05</td>\n",
       "      <td>wazirx</td>\n",
       "      <td>ETHINR</td>\n",
       "      <td>117505.00</td>\n",
       "      <td>117700.0</td>\n",
       "      <td>117602.50</td>\n",
       "    </tr>\n",
       "    <tr>\n",
       "      <th>3</th>\n",
       "      <td>2021-03-01 20:32:10</td>\n",
       "      <td>wazirx</td>\n",
       "      <td>BTCINR</td>\n",
       "      <td>3710743.00</td>\n",
       "      <td>3716553.0</td>\n",
       "      <td>3713648.00</td>\n",
       "    </tr>\n",
       "  </tbody>\n",
       "</table>\n",
       "</div>"
      ],
      "text/plain": [
       "            timestamp exchange   symbol  bid_0_price  ask_0_price    midprice\n",
       "0 2021-03-01 20:32:05   wazirx  USDTINR        76.76         76.9       76.83\n",
       "1 2021-03-01 20:32:05   wazirx   BTCINR   3710743.00    3716553.0  3713648.00\n",
       "2 2021-03-01 20:32:05   wazirx   ETHINR    117505.00     117700.0   117602.50\n",
       "3 2021-03-01 20:32:10   wazirx   BTCINR   3710743.00    3716553.0  3713648.00"
      ]
     },
     "execution_count": 10,
     "metadata": {},
     "output_type": "execute_result"
    }
   ],
   "source": [
    "df_wz.head(4)"
   ]
  },
  {
   "cell_type": "code",
   "execution_count": 11,
   "id": "reported-spokesman",
   "metadata": {},
   "outputs": [
    {
     "data": {
      "text/html": [
       "<div>\n",
       "<style scoped>\n",
       "    .dataframe tbody tr th:only-of-type {\n",
       "        vertical-align: middle;\n",
       "    }\n",
       "\n",
       "    .dataframe tbody tr th {\n",
       "        vertical-align: top;\n",
       "    }\n",
       "\n",
       "    .dataframe thead th {\n",
       "        text-align: right;\n",
       "    }\n",
       "</style>\n",
       "<table border=\"1\" class=\"dataframe\">\n",
       "  <thead>\n",
       "    <tr style=\"text-align: right;\">\n",
       "      <th></th>\n",
       "      <th>timestamp</th>\n",
       "      <th>exchange</th>\n",
       "      <th>symbol</th>\n",
       "      <th>bid_0_price</th>\n",
       "      <th>ask_0_price</th>\n",
       "      <th>midprice</th>\n",
       "    </tr>\n",
       "  </thead>\n",
       "  <tbody>\n",
       "    <tr>\n",
       "      <th>0</th>\n",
       "      <td>2021-03-01 20:32:05</td>\n",
       "      <td>ftx</td>\n",
       "      <td>ETHUSD</td>\n",
       "      <td>1534.8000</td>\n",
       "      <td>1535.2000</td>\n",
       "      <td>1535.00000</td>\n",
       "    </tr>\n",
       "    <tr>\n",
       "      <th>1</th>\n",
       "      <td>2021-03-01 20:32:05</td>\n",
       "      <td>ftx</td>\n",
       "      <td>BTCUSD</td>\n",
       "      <td>48344.0000</td>\n",
       "      <td>48351.0000</td>\n",
       "      <td>48347.50000</td>\n",
       "    </tr>\n",
       "    <tr>\n",
       "      <th>2</th>\n",
       "      <td>2021-03-01 20:32:05</td>\n",
       "      <td>ftx</td>\n",
       "      <td>USDTUSD</td>\n",
       "      <td>1.0011</td>\n",
       "      <td>1.0012</td>\n",
       "      <td>1.00115</td>\n",
       "    </tr>\n",
       "    <tr>\n",
       "      <th>3</th>\n",
       "      <td>2021-03-01 20:32:10</td>\n",
       "      <td>ftx</td>\n",
       "      <td>ETHUSD</td>\n",
       "      <td>1534.9000</td>\n",
       "      <td>1535.0000</td>\n",
       "      <td>1534.95000</td>\n",
       "    </tr>\n",
       "  </tbody>\n",
       "</table>\n",
       "</div>"
      ],
      "text/plain": [
       "            timestamp exchange   symbol  bid_0_price  ask_0_price     midprice\n",
       "0 2021-03-01 20:32:05      ftx   ETHUSD    1534.8000    1535.2000   1535.00000\n",
       "1 2021-03-01 20:32:05      ftx   BTCUSD   48344.0000   48351.0000  48347.50000\n",
       "2 2021-03-01 20:32:05      ftx  USDTUSD       1.0011       1.0012      1.00115\n",
       "3 2021-03-01 20:32:10      ftx   ETHUSD    1534.9000    1535.0000   1534.95000"
      ]
     },
     "execution_count": 11,
     "metadata": {},
     "output_type": "execute_result"
    }
   ],
   "source": [
    "df_ftx = pd.read_csv(data_dir+'orderbook_resolution_5_2021-03-01_2021-03-24_ftx.csv')\n",
    "df_ftx['timestamp'] = pd.to_datetime(df_ftx['timestamp'])\n",
    "df_ftx.head(4)"
   ]
  },
  {
   "cell_type": "code",
   "execution_count": 7,
   "id": "functioning-iceland",
   "metadata": {},
   "outputs": [
    {
     "data": {
      "text/plain": [
       "(1062827, 1151397)"
      ]
     },
     "execution_count": 7,
     "metadata": {},
     "output_type": "execute_result"
    }
   ],
   "source": [
    "len(df_wz),len(df_ftx)"
   ]
  },
  {
   "cell_type": "code",
   "execution_count": 50,
   "id": "computational-dividend",
   "metadata": {},
   "outputs": [],
   "source": [
    "wzr_btc = df_wz[df_wz['symbol'] == 'BTCINR'][['timestamp','midprice']].copy().rename({'midprice':'midbtc'},axis=1).set_index('timestamp')\n",
    "wzr_eth = df_wz[df_wz['symbol'] == 'ETHINR'][['timestamp','midprice']].copy().rename({'midprice':'mideth'},axis=1).set_index('timestamp')\n",
    "usd_inr = df_wz[df_wz['symbol'] == 'USDTINR'][['timestamp','midprice']].copy().rename({'midprice':'usdinr'},axis=1).set_index('timestamp')\n",
    "ftx_btcusd = df_ftx[df_ftx['symbol'] == 'BTCUSD'][['timestamp','midprice']].copy().rename({'midprice':'ftx_midbtc_usd'},axis=1).set_index('timestamp')\n",
    "ftx_ethusd = df_ftx[df_ftx['symbol'] == 'ETHUSD'][['timestamp','midprice']].copy().rename({'midprice':'ftx_mideth_usd'},axis=1).set_index('timestamp')\n"
   ]
  },
  {
   "cell_type": "code",
   "execution_count": 118,
   "id": "beneficial-telling",
   "metadata": {},
   "outputs": [],
   "source": [
    "t = pd.concat([wzr_btc,wzr_eth,usd_inr,ftx_btcusd,ftx_ethusd],join='inner',axis=1)\n",
    "t['midbtc_ftx'] = t['ftx_midbtc_usd']*t['usdinr']\n",
    "t['mideth_ftx'] = t['ftx_mideth_usd']*t['usdinr']\n",
    "t.drop(labels=['ftx_midbtc_usd','ftx_mideth_usd'],axis=1,inplace=True)"
   ]
  },
  {
   "cell_type": "code",
   "execution_count": 119,
   "id": "indian-planet",
   "metadata": {},
   "outputs": [
    {
     "data": {
      "text/html": [
       "<div>\n",
       "<style scoped>\n",
       "    .dataframe tbody tr th:only-of-type {\n",
       "        vertical-align: middle;\n",
       "    }\n",
       "\n",
       "    .dataframe tbody tr th {\n",
       "        vertical-align: top;\n",
       "    }\n",
       "\n",
       "    .dataframe thead th {\n",
       "        text-align: right;\n",
       "    }\n",
       "</style>\n",
       "<table border=\"1\" class=\"dataframe\">\n",
       "  <thead>\n",
       "    <tr style=\"text-align: right;\">\n",
       "      <th></th>\n",
       "      <th>midbtc</th>\n",
       "      <th>mideth</th>\n",
       "      <th>usdinr</th>\n",
       "      <th>midbtc_ftx</th>\n",
       "      <th>mideth_ftx</th>\n",
       "      <th>time</th>\n",
       "    </tr>\n",
       "    <tr>\n",
       "      <th>timestamp</th>\n",
       "      <th></th>\n",
       "      <th></th>\n",
       "      <th></th>\n",
       "      <th></th>\n",
       "      <th></th>\n",
       "      <th></th>\n",
       "    </tr>\n",
       "  </thead>\n",
       "  <tbody>\n",
       "    <tr>\n",
       "      <th>2021-03-01 20:32:05</th>\n",
       "      <td>3713648.0</td>\n",
       "      <td>117602.5</td>\n",
       "      <td>76.830</td>\n",
       "      <td>3714538.425</td>\n",
       "      <td>117934.05000</td>\n",
       "      <td>2021-03-01 20:32:05</td>\n",
       "    </tr>\n",
       "    <tr>\n",
       "      <th>2021-03-01 20:32:10</th>\n",
       "      <td>3713648.0</td>\n",
       "      <td>117602.5</td>\n",
       "      <td>76.745</td>\n",
       "      <td>3711771.925</td>\n",
       "      <td>117799.73775</td>\n",
       "      <td>2021-03-01 20:32:10</td>\n",
       "    </tr>\n",
       "  </tbody>\n",
       "</table>\n",
       "</div>"
      ],
      "text/plain": [
       "                        midbtc    mideth  usdinr   midbtc_ftx    mideth_ftx  \\\n",
       "timestamp                                                                     \n",
       "2021-03-01 20:32:05  3713648.0  117602.5  76.830  3714538.425  117934.05000   \n",
       "2021-03-01 20:32:10  3713648.0  117602.5  76.745  3711771.925  117799.73775   \n",
       "\n",
       "                                   time  \n",
       "timestamp                                \n",
       "2021-03-01 20:32:05 2021-03-01 20:32:05  \n",
       "2021-03-01 20:32:10 2021-03-01 20:32:10  "
      ]
     },
     "execution_count": 119,
     "metadata": {},
     "output_type": "execute_result"
    }
   ],
   "source": [
    "t['time'] = pd.to_datetime(t.index)\n",
    "t.head(2)"
   ]
  },
  {
   "cell_type": "code",
   "execution_count": 139,
   "id": "distinguished-illinois",
   "metadata": {},
   "outputs": [
    {
     "data": {
      "text/plain": [
       "timestamp\n",
       "2021-03-01 20:34:35    65.0\n",
       "2021-03-01 20:45:55    10.0\n",
       "2021-03-01 21:01:55    10.0\n",
       "2021-03-01 21:35:15    10.0\n",
       "2021-03-01 21:35:30    15.0\n",
       "                       ... \n",
       "2021-03-24 12:36:00    10.0\n",
       "2021-03-24 12:36:55    15.0\n",
       "2021-03-24 12:37:25    15.0\n",
       "2021-03-24 12:42:25    10.0\n",
       "2021-03-24 12:57:50    60.0\n",
       "Name: time, Length: 4266, dtype: float64"
      ]
     },
     "execution_count": 139,
     "metadata": {},
     "output_type": "execute_result"
    }
   ],
   "source": [
    "# Checking to see if all the data is at 5s resolution.\n",
    "time_diff = t['time'].diff(1).dt.total_seconds().dropna()\n",
    "bad_ids = (time_diff != 5.0)\n",
    "time_diff[bad_ids]"
   ]
  },
  {
   "cell_type": "code",
   "execution_count": 140,
   "id": "documented-advantage",
   "metadata": {},
   "outputs": [
    {
     "data": {
      "text/plain": [
       "count     4266.000000\n",
       "mean       109.968354\n",
       "std       1767.093090\n",
       "min         10.000000\n",
       "25%         10.000000\n",
       "50%         50.000000\n",
       "75%         65.000000\n",
       "max      78650.000000\n",
       "Name: time, dtype: float64"
      ]
     },
     "execution_count": 140,
     "metadata": {},
     "output_type": "execute_result"
    }
   ],
   "source": [
    "time_diff[bad_ids].describe()"
   ]
  },
  {
   "cell_type": "code",
   "execution_count": 134,
   "id": "focal-divide",
   "metadata": {},
   "outputs": [],
   "source": [
    "inds = []\n",
    "for ind,ele in enumerate(time_diff==78650.000000):\n",
    "    if ele == True:\n",
    "        inds.append(ind)\n",
    "        "
   ]
  },
  {
   "cell_type": "code",
   "execution_count": 137,
   "id": "headed-eagle",
   "metadata": {},
   "outputs": [
    {
     "data": {
      "text/html": [
       "<div>\n",
       "<style scoped>\n",
       "    .dataframe tbody tr th:only-of-type {\n",
       "        vertical-align: middle;\n",
       "    }\n",
       "\n",
       "    .dataframe tbody tr th {\n",
       "        vertical-align: top;\n",
       "    }\n",
       "\n",
       "    .dataframe thead th {\n",
       "        text-align: right;\n",
       "    }\n",
       "</style>\n",
       "<table border=\"1\" class=\"dataframe\">\n",
       "  <thead>\n",
       "    <tr style=\"text-align: right;\">\n",
       "      <th></th>\n",
       "      <th>midbtc</th>\n",
       "      <th>mideth</th>\n",
       "      <th>usdinr</th>\n",
       "      <th>midbtc_ftx</th>\n",
       "      <th>mideth_ftx</th>\n",
       "      <th>time</th>\n",
       "    </tr>\n",
       "    <tr>\n",
       "      <th>timestamp</th>\n",
       "      <th></th>\n",
       "      <th></th>\n",
       "      <th></th>\n",
       "      <th></th>\n",
       "      <th></th>\n",
       "      <th></th>\n",
       "    </tr>\n",
       "  </thead>\n",
       "  <tbody>\n",
       "    <tr>\n",
       "      <th>2021-03-09 19:45:00</th>\n",
       "      <td>4039499.5</td>\n",
       "      <td>135695.0</td>\n",
       "      <td>74.125</td>\n",
       "      <td>4.047633e+06</td>\n",
       "      <td>135963.78125</td>\n",
       "      <td>2021-03-09 19:45:00</td>\n",
       "    </tr>\n",
       "    <tr>\n",
       "      <th>2021-03-09 19:45:05</th>\n",
       "      <td>4039499.5</td>\n",
       "      <td>135695.0</td>\n",
       "      <td>74.125</td>\n",
       "      <td>4.047522e+06</td>\n",
       "      <td>135937.83750</td>\n",
       "      <td>2021-03-09 19:45:05</td>\n",
       "    </tr>\n",
       "    <tr>\n",
       "      <th>2021-03-09 19:45:10</th>\n",
       "      <td>4039499.5</td>\n",
       "      <td>135695.0</td>\n",
       "      <td>74.125</td>\n",
       "      <td>4.046373e+06</td>\n",
       "      <td>135882.24375</td>\n",
       "      <td>2021-03-09 19:45:10</td>\n",
       "    </tr>\n",
       "    <tr>\n",
       "      <th>2021-03-10 17:36:00</th>\n",
       "      <td>4077551.5</td>\n",
       "      <td>134850.0</td>\n",
       "      <td>74.130</td>\n",
       "      <td>4.092310e+06</td>\n",
       "      <td>135387.32550</td>\n",
       "      <td>2021-03-10 17:36:00</td>\n",
       "    </tr>\n",
       "    <tr>\n",
       "      <th>2021-03-10 17:36:05</th>\n",
       "      <td>4077551.5</td>\n",
       "      <td>134850.0</td>\n",
       "      <td>74.130</td>\n",
       "      <td>4.092384e+06</td>\n",
       "      <td>135398.44500</td>\n",
       "      <td>2021-03-10 17:36:05</td>\n",
       "    </tr>\n",
       "  </tbody>\n",
       "</table>\n",
       "</div>"
      ],
      "text/plain": [
       "                        midbtc    mideth  usdinr    midbtc_ftx    mideth_ftx  \\\n",
       "timestamp                                                                      \n",
       "2021-03-09 19:45:00  4039499.5  135695.0  74.125  4.047633e+06  135963.78125   \n",
       "2021-03-09 19:45:05  4039499.5  135695.0  74.125  4.047522e+06  135937.83750   \n",
       "2021-03-09 19:45:10  4039499.5  135695.0  74.125  4.046373e+06  135882.24375   \n",
       "2021-03-10 17:36:00  4077551.5  134850.0  74.130  4.092310e+06  135387.32550   \n",
       "2021-03-10 17:36:05  4077551.5  134850.0  74.130  4.092384e+06  135398.44500   \n",
       "\n",
       "                                   time  \n",
       "timestamp                                \n",
       "2021-03-09 19:45:00 2021-03-09 19:45:00  \n",
       "2021-03-09 19:45:05 2021-03-09 19:45:05  \n",
       "2021-03-09 19:45:10 2021-03-09 19:45:10  \n",
       "2021-03-10 17:36:00 2021-03-10 17:36:00  \n",
       "2021-03-10 17:36:05 2021-03-10 17:36:05  "
      ]
     },
     "execution_count": 137,
     "metadata": {},
     "output_type": "execute_result"
    }
   ],
   "source": [
    "t.iloc[inds[0]-2:inds[0]+3]"
   ]
  },
  {
   "cell_type": "code",
   "execution_count": 141,
   "id": "white-turkish",
   "metadata": {},
   "outputs": [
    {
     "data": {
      "text/plain": [
       "array([1.0000e+01, 1.5000e+01, 2.0000e+01, 2.5000e+01, 3.0000e+01,\n",
       "       3.5000e+01, 4.0000e+01, 4.5000e+01, 5.0000e+01, 5.5000e+01,\n",
       "       6.0000e+01, 6.5000e+01, 7.0000e+01, 7.5000e+01, 8.0000e+01,\n",
       "       8.5000e+01, 9.0000e+01, 9.5000e+01, 1.0000e+02, 1.0500e+02,\n",
       "       1.1000e+02, 1.1500e+02, 1.2000e+02, 1.2500e+02, 1.3000e+02,\n",
       "       1.3500e+02, 1.4000e+02, 1.4500e+02, 1.5000e+02, 1.5500e+02,\n",
       "       1.6000e+02, 1.6500e+02, 1.7000e+02, 1.7500e+02, 1.8000e+02,\n",
       "       1.8500e+02, 1.9000e+02, 1.9500e+02, 2.0000e+02, 2.0500e+02,\n",
       "       2.1000e+02, 2.1500e+02, 2.2000e+02, 2.2500e+02, 2.3500e+02,\n",
       "       2.4000e+02, 2.5000e+02, 2.6000e+02, 2.7500e+02, 2.8000e+02,\n",
       "       2.8500e+02, 2.9000e+02, 3.0000e+02, 3.1000e+02, 3.1500e+02,\n",
       "       3.3500e+02, 3.4000e+02, 3.5000e+02, 3.6500e+02, 5.7500e+02,\n",
       "       7.3000e+02, 1.6200e+03, 3.4750e+03, 3.6050e+03, 5.2650e+03,\n",
       "       9.3300e+03, 1.2320e+04, 1.2780e+04, 1.5225e+04, 2.4795e+04,\n",
       "       3.2955e+04, 6.9110e+04, 7.8650e+04])"
      ]
     },
     "execution_count": 141,
     "metadata": {},
     "output_type": "execute_result"
    }
   ],
   "source": [
    "np.unique(time_diff[bad_ids])"
   ]
  },
  {
   "cell_type": "code",
   "execution_count": 148,
   "id": "average-collective",
   "metadata": {},
   "outputs": [
    {
     "data": {
      "text/plain": [
       "date\n",
       "2021-03-01     2195\n",
       "2021-03-02    15314\n",
       "2021-03-03    12718\n",
       "2021-03-04    16045\n",
       "2021-03-05    15843\n",
       "2021-03-06    15999\n",
       "2021-03-07    15917\n",
       "2021-03-08    13708\n",
       "2021-03-09    12101\n",
       "2021-03-10     4457\n",
       "2021-03-11     9127\n",
       "2021-03-12     5115\n",
       "2021-03-13    15690\n",
       "2021-03-14    15112\n",
       "2021-03-15    14570\n",
       "2021-03-16    10949\n",
       "2021-03-17    14559\n",
       "2021-03-18    10845\n",
       "2021-03-19    13681\n",
       "2021-03-20    14775\n",
       "2021-03-21    14418\n",
       "2021-03-22    14902\n",
       "2021-03-23    15382\n",
       "2021-03-24     9019\n",
       "Name: time, dtype: int64"
      ]
     },
     "execution_count": 148,
     "metadata": {},
     "output_type": "execute_result"
    }
   ],
   "source": [
    "t['date'] = t['time'].dt.date\n",
    "t.groupby('date').count()['time']\n"
   ]
  },
  {
   "cell_type": "markdown",
   "id": "laden-following",
   "metadata": {},
   "source": [
    "## This data is fucked up so badly..welcome to real world."
   ]
  },
  {
   "cell_type": "markdown",
   "id": "universal-notification",
   "metadata": {},
   "source": [
    "### let's just see the plane wazirx data\n"
   ]
  },
  {
   "cell_type": "code",
   "execution_count": 157,
   "id": "greenhouse-noise",
   "metadata": {},
   "outputs": [
    {
     "data": {
      "text/plain": [
       "date\n",
       "2021-03-01     2350\n",
       "2021-03-02    16292\n",
       "2021-03-03    13300\n",
       "2021-03-04    16746\n",
       "2021-03-05    16686\n",
       "2021-03-06    16607\n",
       "2021-03-07    16643\n",
       "2021-03-08    16324\n",
       "2021-03-09    13048\n",
       "2021-03-10     4531\n",
       "2021-03-11    16586\n",
       "2021-03-12    14850\n",
       "2021-03-13    16545\n",
       "2021-03-14    16404\n",
       "2021-03-15    16108\n",
       "2021-03-16    11842\n",
       "2021-03-17    16524\n",
       "2021-03-18    16832\n",
       "2021-03-19    15032\n",
       "2021-03-20    16218\n",
       "2021-03-21    15992\n",
       "2021-03-22    16359\n",
       "2021-03-23    16493\n",
       "2021-03-24     9231\n",
       "Name: timestamp, dtype: int64"
      ]
     },
     "execution_count": 157,
     "metadata": {},
     "output_type": "execute_result"
    }
   ],
   "source": [
    "df_wz['date'] = df_wz['timestamp'].dt.date\n",
    "df_wz[df_wz['symbol'] == 'BTCINR'].groupby('date').count()['timestamp']"
   ]
  },
  {
   "cell_type": "markdown",
   "id": "adaptive-shelf",
   "metadata": {},
   "source": [
    "### Even orginal data is reasonably fucked."
   ]
  },
  {
   "cell_type": "code",
   "execution_count": null,
   "id": "found-bobby",
   "metadata": {},
   "outputs": [],
   "source": []
  },
  {
   "cell_type": "code",
   "execution_count": null,
   "id": "early-green",
   "metadata": {},
   "outputs": [],
   "source": []
  },
  {
   "cell_type": "code",
   "execution_count": null,
   "id": "found-extraction",
   "metadata": {},
   "outputs": [],
   "source": []
  },
  {
   "cell_type": "code",
   "execution_count": null,
   "id": "adjusted-inspector",
   "metadata": {},
   "outputs": [],
   "source": []
  }
 ],
 "metadata": {
  "kernelspec": {
   "display_name": "Python 3",
   "language": "python",
   "name": "python3"
  },
  "language_info": {
   "codemirror_mode": {
    "name": "ipython",
    "version": 3
   },
   "file_extension": ".py",
   "mimetype": "text/x-python",
   "name": "python",
   "nbconvert_exporter": "python",
   "pygments_lexer": "ipython3",
   "version": "3.8.3"
  }
 },
 "nbformat": 4,
 "nbformat_minor": 5
}
